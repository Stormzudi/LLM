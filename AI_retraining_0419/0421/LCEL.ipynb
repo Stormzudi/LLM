{
 "cells": [
  {
   "cell_type": "code",
   "execution_count": 2,
   "id": "22cfea2c-c10b-4262-8b85-bd6029222ae5",
   "metadata": {},
   "outputs": [],
   "source": [
    "from langchain_community.llms import Ollama as OllamaLLM\n",
    "from langchain_core.output_parsers import StrOutputParser\n",
    "from langchain.prompts import PromptTemplate"
   ]
  },
  {
   "cell_type": "code",
   "execution_count": 3,
   "id": "9d65f9dc-624f-4ee2-af73-f42625443eb5",
   "metadata": {},
   "outputs": [
    {
     "name": "stdout",
     "output_type": "stream",
     "text": [
      "```python\n",
      "# 讲一个关于软件的笑话\n",
      "\n",
      "def tell_joke():\n",
      "  # 准备笑话\n",
      "  joke = \"软件总是像一只小狗，它会把它尾巴弄得有点乱了。\"\n",
      "  \n",
      "  # 播放笑话\n",
      "  print(joke)\n",
      "\n",
      "\n",
      "# 运行函数\n",
      "tell_joke()\n",
      "```\n",
      "\n",
      "**运行结果:**\n",
      "\n",
      "```\n",
      "软件总是像一只小狗，它会把它尾巴弄得有点乱了。\n",
      "```\n",
      "\n",
      "**解释:**\n",
      "\n",
      "1. `tell_joke` 函数定义了一个 `joke`变量， containing 要讲的笑话。\n",
      "2. `print(joke)` 语句使用 `print` 函数打印笑话。\n",
      "3. `tell_joke` 函数调用 `tell_joke` 函数，执行笑话。\n",
      "\n",
      "**其他选项:**\n",
      "\n",
      "* 可以修改笑话，使其更有趣或更令人笑。\n",
      "* 可以添加一些背景信息，让笑话更有意义。\n",
      "* 可以使用不同的语言编写笑话。\n"
     ]
    }
   ],
   "source": [
    "prompt = PromptTemplate(template=\"write a program about {topic}\", input_variables=[\"topic\"])\n",
    "\n",
    "model = OllamaLLM(model=\"gemma:2b\")\n",
    "# 或者 model = OllamaLLM(model=\"gemma:latest\")\n",
    "\n",
    "output_parser = StrOutputParser()\n",
    "\n",
    "chain = model.generate([prompt.format(topic=\"讲一个关于软件的笑话\")])\n",
    "print(chain.generations[0][0].text)"
   ]
  },
  {
   "cell_type": "markdown",
   "id": "5b4352ac-9f27-4586-8476-2355b36acf3f",
   "metadata": {},
   "source": [
    "## 使用LCEL\n"
   ]
  },
  {
   "cell_type": "code",
   "execution_count": 4,
   "id": "ad3f2ffd-bd8c-4f0c-8c6b-3ad21bfc134a",
   "metadata": {},
   "outputs": [],
   "source": [
    "from langchain_community.llms import Ollama as OllamaLLM\n",
    "from langchain_community.embeddings import OllamaEmbeddings\n",
    "from langchain_community.vectorstores import DocArrayInMemorySearch\n",
    "from langchain_core.output_parsers import StrOutputParser\n",
    "from langchain_core.prompts import ChatPromptTemplate\n",
    "from langchain_core.runnables import RunnableParallel, RunnablePassthrough"
   ]
  },
  {
   "cell_type": "code",
   "execution_count": 17,
   "id": "053fe0e5-9c15-4ab6-b0df-41381b3dde42",
   "metadata": {},
   "outputs": [
    {
     "name": "stderr",
     "output_type": "stream",
     "text": [
      "C:\\Software\\anaconda\\conda\\envs\\tf20\\lib\\site-packages\\pydantic\\_migration.py:283: UserWarning: `pydantic.error_wrappers:ValidationError` has been moved to `pydantic:ValidationError`.\n",
      "  warnings.warn(f'`{import_path}` has been moved to `{new_location}`.')\n"
     ]
    },
    {
     "name": "stdout",
     "output_type": "stream",
     "text": [
      "该上下文没有提供哈里森在哪里工作的具体信息，无法回答该问题。\n"
     ]
    }
   ],
   "source": [
    "# 初始化嵌入模型\n",
    "embedding_model = OllamaEmbeddings(model=\"gemma:2b\")\n",
    "# 需要被嵌入的文本列表\n",
    "texts = [\"哈里森在肯肖工作\", \"熊喜欢吃蜂蜜\"]\n",
    "vectorstore = DocArrayInMemorySearch.from_texts(\n",
    "    texts,\n",
    "    embedding=embedding_model\n",
    ")\n",
    "retriever = vectorstore.as_retriever()\n",
    "template = \"\"\"根据以下上下文回答问题: {context} 问题: {question} \"\"\"\n",
    "prompt = ChatPromptTemplate.from_template(template)\n",
    "model = OllamaLLM(model=\"gemma:2b\")\n",
    "output_parser = StrOutputParser()\n",
    "setup_and_retrieval = RunnableParallel(\n",
    "    {\"context\": retriever, \"question\": RunnablePassthrough()}\n",
    ")\n",
    "chain = setup_and_retrieval | prompt | model | output_parser\n",
    "result = chain.invoke(\"哈里森在哪里工作？\")\n",
    "print(result)\n"
   ]
  },
  {
   "cell_type": "code",
   "execution_count": null,
   "id": "856b28c9-4d5b-4c87-8078-f9669fe18621",
   "metadata": {},
   "outputs": [],
   "source": []
  },
  {
   "cell_type": "code",
   "execution_count": null,
   "id": "70d420f4-0ded-4e7b-b07f-08763d5c4cff",
   "metadata": {},
   "outputs": [],
   "source": []
  },
  {
   "cell_type": "code",
   "execution_count": 18,
   "id": "2f9f6af6-dca0-404f-b22f-2bf0a9077f86",
   "metadata": {},
   "outputs": [
    {
     "ename": "ImportError",
     "evalue": "Could not import faiss python package. Please install it with `pip install faiss-gpu` (for CUDA supported GPU) or `pip install faiss-cpu` (depending on Python version).",
     "output_type": "error",
     "traceback": [
      "\u001b[1;31m---------------------------------------------------------------------------\u001b[0m",
      "\u001b[1;31mModuleNotFoundError\u001b[0m                       Traceback (most recent call last)",
      "File \u001b[1;32mC:\\Software\\anaconda\\conda\\envs\\tf20\\lib\\site-packages\\langchain_community\\vectorstores\\faiss.py:55\u001b[0m, in \u001b[0;36mdependable_faiss_import\u001b[1;34m(no_avx2)\u001b[0m\n\u001b[0;32m     54\u001b[0m     \u001b[38;5;28;01melse\u001b[39;00m:\n\u001b[1;32m---> 55\u001b[0m         \u001b[38;5;28;01mimport\u001b[39;00m \u001b[38;5;21;01mfaiss\u001b[39;00m\n\u001b[0;32m     56\u001b[0m \u001b[38;5;28;01mexcept\u001b[39;00m \u001b[38;5;167;01mImportError\u001b[39;00m:\n",
      "\u001b[1;31mModuleNotFoundError\u001b[0m: No module named 'faiss'",
      "\nDuring handling of the above exception, another exception occurred:\n",
      "\u001b[1;31mImportError\u001b[0m                               Traceback (most recent call last)",
      "Cell \u001b[1;32mIn[18], line 36\u001b[0m\n\u001b[0;32m     32\u001b[0m prompt \u001b[38;5;241m=\u001b[39m ChatPromptTemplate\u001b[38;5;241m.\u001b[39mfrom_template(template)\n\u001b[0;32m     34\u001b[0m model \u001b[38;5;241m=\u001b[39m OllamaLLM(model\u001b[38;5;241m=\u001b[39m\u001b[38;5;124m\"\u001b[39m\u001b[38;5;124mgemma:2b\u001b[39m\u001b[38;5;124m\"\u001b[39m)\n\u001b[1;32m---> 36\u001b[0m vectorstore \u001b[38;5;241m=\u001b[39m \u001b[43mFAISS\u001b[49m\u001b[38;5;241;43m.\u001b[39;49m\u001b[43mfrom_texts\u001b[49m\u001b[43m(\u001b[49m\n\u001b[0;32m     37\u001b[0m \u001b[43m    \u001b[49m\u001b[43m[\u001b[49m\u001b[38;5;124;43m\"\u001b[39;49m\u001b[38;5;124;43mLangchain是一个用于开发LLM应用的开源框架。它提供了许多有用的工具和组件,如提示模板、记忆体系、索引等,帮助开发者更轻松地构建LLM应用。\u001b[39;49m\u001b[38;5;124;43m\"\u001b[39;49m\u001b[43m]\u001b[49m\u001b[43m,\u001b[49m\n\u001b[0;32m     38\u001b[0m \u001b[43m    \u001b[49m\u001b[43membedding\u001b[49m\u001b[38;5;241;43m=\u001b[39;49m\u001b[43mOllamaEmbeddings\u001b[49m\u001b[43m(\u001b[49m\u001b[43mmodel\u001b[49m\u001b[38;5;241;43m=\u001b[39;49m\u001b[38;5;124;43m\"\u001b[39;49m\u001b[38;5;124;43mgemma:2b\u001b[39;49m\u001b[38;5;124;43m\"\u001b[39;49m\u001b[43m)\u001b[49m\n\u001b[0;32m     39\u001b[0m \u001b[43m)\u001b[49m\n\u001b[0;32m     41\u001b[0m retriever \u001b[38;5;241m=\u001b[39m vectorstore\u001b[38;5;241m.\u001b[39mas_retriever()\n\u001b[0;32m     43\u001b[0m _inputs \u001b[38;5;241m=\u001b[39m RunnableParallel(\n\u001b[0;32m     44\u001b[0m     chat_history\u001b[38;5;241m=\u001b[39mRunnablePassthrough(),\n\u001b[0;32m     45\u001b[0m     question\u001b[38;5;241m=\u001b[39m(\n\u001b[1;32m   (...)\u001b[0m\n\u001b[0;32m     50\u001b[0m     ),\n\u001b[0;32m     51\u001b[0m )\n",
      "File \u001b[1;32mC:\\Software\\anaconda\\conda\\envs\\tf20\\lib\\site-packages\\langchain_community\\vectorstores\\faiss.py:931\u001b[0m, in \u001b[0;36mFAISS.from_texts\u001b[1;34m(cls, texts, embedding, metadatas, ids, **kwargs)\u001b[0m\n\u001b[0;32m    912\u001b[0m \u001b[38;5;250m\u001b[39m\u001b[38;5;124;03m\"\"\"Construct FAISS wrapper from raw documents.\u001b[39;00m\n\u001b[0;32m    913\u001b[0m \n\u001b[0;32m    914\u001b[0m \u001b[38;5;124;03mThis is a user friendly interface that:\u001b[39;00m\n\u001b[1;32m   (...)\u001b[0m\n\u001b[0;32m    928\u001b[0m \u001b[38;5;124;03m        faiss = FAISS.from_texts(texts, embeddings)\u001b[39;00m\n\u001b[0;32m    929\u001b[0m \u001b[38;5;124;03m\"\"\"\u001b[39;00m\n\u001b[0;32m    930\u001b[0m embeddings \u001b[38;5;241m=\u001b[39m embedding\u001b[38;5;241m.\u001b[39membed_documents(texts)\n\u001b[1;32m--> 931\u001b[0m \u001b[38;5;28;01mreturn\u001b[39;00m \u001b[38;5;28;43mcls\u001b[39;49m\u001b[38;5;241;43m.\u001b[39;49m\u001b[43m__from\u001b[49m\u001b[43m(\u001b[49m\n\u001b[0;32m    932\u001b[0m \u001b[43m    \u001b[49m\u001b[43mtexts\u001b[49m\u001b[43m,\u001b[49m\n\u001b[0;32m    933\u001b[0m \u001b[43m    \u001b[49m\u001b[43membeddings\u001b[49m\u001b[43m,\u001b[49m\n\u001b[0;32m    934\u001b[0m \u001b[43m    \u001b[49m\u001b[43membedding\u001b[49m\u001b[43m,\u001b[49m\n\u001b[0;32m    935\u001b[0m \u001b[43m    \u001b[49m\u001b[43mmetadatas\u001b[49m\u001b[38;5;241;43m=\u001b[39;49m\u001b[43mmetadatas\u001b[49m\u001b[43m,\u001b[49m\n\u001b[0;32m    936\u001b[0m \u001b[43m    \u001b[49m\u001b[43mids\u001b[49m\u001b[38;5;241;43m=\u001b[39;49m\u001b[43mids\u001b[49m\u001b[43m,\u001b[49m\n\u001b[0;32m    937\u001b[0m \u001b[43m    \u001b[49m\u001b[38;5;241;43m*\u001b[39;49m\u001b[38;5;241;43m*\u001b[39;49m\u001b[43mkwargs\u001b[49m\u001b[43m,\u001b[49m\n\u001b[0;32m    938\u001b[0m \u001b[43m\u001b[49m\u001b[43m)\u001b[49m\n",
      "File \u001b[1;32mC:\\Software\\anaconda\\conda\\envs\\tf20\\lib\\site-packages\\langchain_community\\vectorstores\\faiss.py:883\u001b[0m, in \u001b[0;36mFAISS.__from\u001b[1;34m(cls, texts, embeddings, embedding, metadatas, ids, normalize_L2, distance_strategy, **kwargs)\u001b[0m\n\u001b[0;32m    871\u001b[0m \u001b[38;5;129m@classmethod\u001b[39m\n\u001b[0;32m    872\u001b[0m \u001b[38;5;28;01mdef\u001b[39;00m \u001b[38;5;21m__from\u001b[39m(\n\u001b[0;32m    873\u001b[0m     \u001b[38;5;28mcls\u001b[39m,\n\u001b[1;32m   (...)\u001b[0m\n\u001b[0;32m    881\u001b[0m     \u001b[38;5;241m*\u001b[39m\u001b[38;5;241m*\u001b[39mkwargs: Any,\n\u001b[0;32m    882\u001b[0m ) \u001b[38;5;241m-\u001b[39m\u001b[38;5;241m>\u001b[39m FAISS:\n\u001b[1;32m--> 883\u001b[0m     faiss \u001b[38;5;241m=\u001b[39m \u001b[43mdependable_faiss_import\u001b[49m\u001b[43m(\u001b[49m\u001b[43m)\u001b[49m\n\u001b[0;32m    884\u001b[0m     \u001b[38;5;28;01mif\u001b[39;00m distance_strategy \u001b[38;5;241m==\u001b[39m DistanceStrategy\u001b[38;5;241m.\u001b[39mMAX_INNER_PRODUCT:\n\u001b[0;32m    885\u001b[0m         index \u001b[38;5;241m=\u001b[39m faiss\u001b[38;5;241m.\u001b[39mIndexFlatIP(\u001b[38;5;28mlen\u001b[39m(embeddings[\u001b[38;5;241m0\u001b[39m]))\n",
      "File \u001b[1;32mC:\\Software\\anaconda\\conda\\envs\\tf20\\lib\\site-packages\\langchain_community\\vectorstores\\faiss.py:57\u001b[0m, in \u001b[0;36mdependable_faiss_import\u001b[1;34m(no_avx2)\u001b[0m\n\u001b[0;32m     55\u001b[0m         \u001b[38;5;28;01mimport\u001b[39;00m \u001b[38;5;21;01mfaiss\u001b[39;00m\n\u001b[0;32m     56\u001b[0m \u001b[38;5;28;01mexcept\u001b[39;00m \u001b[38;5;167;01mImportError\u001b[39;00m:\n\u001b[1;32m---> 57\u001b[0m     \u001b[38;5;28;01mraise\u001b[39;00m \u001b[38;5;167;01mImportError\u001b[39;00m(\n\u001b[0;32m     58\u001b[0m         \u001b[38;5;124m\"\u001b[39m\u001b[38;5;124mCould not import faiss python package. \u001b[39m\u001b[38;5;124m\"\u001b[39m\n\u001b[0;32m     59\u001b[0m         \u001b[38;5;124m\"\u001b[39m\u001b[38;5;124mPlease install it with `pip install faiss-gpu` (for CUDA supported GPU) \u001b[39m\u001b[38;5;124m\"\u001b[39m\n\u001b[0;32m     60\u001b[0m         \u001b[38;5;124m\"\u001b[39m\u001b[38;5;124mor `pip install faiss-cpu` (depending on Python version).\u001b[39m\u001b[38;5;124m\"\u001b[39m\n\u001b[0;32m     61\u001b[0m     )\n\u001b[0;32m     62\u001b[0m \u001b[38;5;28;01mreturn\u001b[39;00m faiss\n",
      "\u001b[1;31mImportError\u001b[0m: Could not import faiss python package. Please install it with `pip install faiss-gpu` (for CUDA supported GPU) or `pip install faiss-cpu` (depending on Python version)."
     ]
    }
   ],
   "source": [
    "from langchain_community.vectorstores import FAISS\n",
    "from langchain_core.runnables import RunnablePassthrough\n",
    "from langchain_community.embeddings import OllamaEmbeddings\n",
    "from langchain_community.llms import Ollama as OllamaLLM\n",
    "from langchain_core.messages import HumanMessage, AIMessage, get_buffer_string\n",
    "from langchain_core.prompts import format_document, ChatPromptTemplate\n",
    "from langchain_core.runnables import RunnableParallel\n",
    "from langchain_core.output_parsers import StrOutputParser\n",
    "from langchain_core.documents.base import Document\n",
    "from operator import itemgetter\n",
    "\n",
    "_template = \"\"\"给定以下对话历史和一个后续问题,请将后续问题转述为一个独立的问题,使用原始语言。\n",
    "\n",
    "对话历史:\n",
    "\n",
    "{chat_history}\n",
    "\n",
    "后续问题: {question}\n",
    "\n",
    "独立问题:\"\"\"\n",
    "\n",
    "CONDENSE_QUESTION_PROMPT = ChatPromptTemplate.from_template(_template)\n",
    "\n",
    "template = \"\"\"基于以下背景信息回答问题:\n",
    "\n",
    "{context}\n",
    "\n",
    "问题: {question}\n",
    "\n",
    "\"\"\"\n",
    "\n",
    "prompt = ChatPromptTemplate.from_template(template)\n",
    "\n",
    "model = OllamaLLM(model=\"gemma:2b\")\n",
    "\n",
    "vectorstore = FAISS.from_texts(\n",
    "    [\"Langchain是一个用于开发LLM应用的开源框架。它提供了许多有用的工具和组件,如提示模板、记忆体系、索引等,帮助开发者更轻松地构建LLM应用。\"],\n",
    "    embedding=OllamaEmbeddings(model=\"gemma:2b\")\n",
    ")\n",
    "\n",
    "retriever = vectorstore.as_retriever()\n",
    "\n",
    "_inputs = RunnableParallel(\n",
    "    chat_history=RunnablePassthrough(),\n",
    "    question=(\n",
    "        {\"question\": RunnablePassthrough(), \"chat_history\": lambda x: get_buffer_string(x[\"chat_history\"])}\n",
    "        | CONDENSE_QUESTION_PROMPT\n",
    "        | model\n",
    "        | StrOutputParser()\n",
    "    ),\n",
    ")\n",
    "\n",
    "_context = {\n",
    "    \"context\": itemgetter(\"question\") | retriever | (lambda docs: format_document(Document(page_content=\"\\n\".join(doc.page_content for doc in docs), metadata={\"context\": \"\\n\".join(doc.page_content for doc in docs), \"question\": None}), prompt)),\n",
    "    \"question\": lambda x: x[\"question\"],\n",
    "}\n",
    "\n",
    "conversational_qa_chain = _inputs | _context | prompt | model\n",
    "\n",
    "chat_history = [\n",
    "    HumanMessage(content=\"Langchain是什么?\"),\n",
    "    AIMessage(content=\"Langchain是一个用于开发大语言模型应用的开源框架。\"),\n",
    "    HumanMessage(content=\"那么Langchain有哪些主要功能?\"),\n",
    "]\n",
    "\n",
    "print(conversational_qa_chain.invoke({\"question\": \"Langchain有哪些特点?\", \"chat_history\": chat_history}))"
   ]
  },
  {
   "cell_type": "code",
   "execution_count": null,
   "id": "1724f62a-cd1f-4fe1-bd1b-7d2dbd5035d1",
   "metadata": {},
   "outputs": [],
   "source": []
  }
 ],
 "metadata": {
  "kernelspec": {
   "display_name": "tf20",
   "language": "python",
   "name": "tf20"
  },
  "language_info": {
   "codemirror_mode": {
    "name": "ipython",
    "version": 3
   },
   "file_extension": ".py",
   "mimetype": "text/x-python",
   "name": "python",
   "nbconvert_exporter": "python",
   "pygments_lexer": "ipython3",
   "version": "3.8.19"
  }
 },
 "nbformat": 4,
 "nbformat_minor": 5
}
